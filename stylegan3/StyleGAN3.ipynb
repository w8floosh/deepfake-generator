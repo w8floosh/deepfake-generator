{
 "cells": [
  {
   "cell_type": "code",
   "execution_count": 1,
   "metadata": {},
   "outputs": [],
   "source": [
    "import os\n",
    "import torch\n",
    "from torch.utils.data import Dataset, DataLoader\n",
    "from torchvision import transforms, models\n",
    "from PIL import Image\n",
    "import random\n",
    "\n",
    "# Custom Dataset Class for CelebA-HQ\n",
    "class CelebAHQDataset(Dataset):\n",
    "    def __init__(self, img_dir, transform=None, num_images=10000):\n",
    "        self.img_dir = img_dir\n",
    "        self.transform = transform\n",
    "        self.image_files = os.listdir(img_dir)[:num_images]  # Select only the first 10,000 images\n",
    "        self.images = []\n",
    "        for img_file in self.image_files:\n",
    "            img_path = os.path.join(img_dir, img_file)\n",
    "            image = Image.open(img_path).convert(\"RGB\")\n",
    "            if self.transform:\n",
    "                image = self.transform(image)\n",
    "            self.images.append(image)\n",
    "\n",
    "    def __len__(self):\n",
    "        return len(self.image_files)\n",
    "\n",
    "    def __getitem__(self, idx):\n",
    "        return self.images[idx]\n",
    "\n",
    "\n",
    "# Define the transformations\n",
    "transform = transforms.Compose([\n",
    "    transforms.ToTensor(),\n",
    "    transforms.Normalize(mean=[0.5, 0.5, 0.5], std=[0.5, 0.5, 0.5]),\n",
    "])\n",
    "\n",
    "# Initialize the dataset and dataloader\n",
    "dataset = CelebAHQDataset(img_dir='datasets/celeba_hq_256', transform=transform, num_images=10000)\n"
   ]
  },
  {
   "cell_type": "code",
   "execution_count": 2,
   "metadata": {},
   "outputs": [
    {
     "name": "stdout",
     "output_type": "stream",
     "text": [
      "cuda\n"
     ]
    }
   ],
   "source": [
    "# Load your custom pre-trained model\n",
    "import pickle\n",
    "model_path = 'models/stylegan3-t-ffhqu-256x256.pkl'\n",
    "with open(model_path, 'rb') as f:\n",
    "    checkpoint = pickle.load(f)\n",
    "\n",
    "generator = checkpoint['G']  # Load the generator part of the GAN\n",
    "discriminator = checkpoint['D']  # Load the discriminator part of the GAN\n",
    "\n",
    "generator.eval()  # Set the model to evaluation mode\n",
    "discriminator.eval()  # Set the model to evaluation mode\n",
    "\n",
    "device = torch.device('cuda' if torch.cuda.is_available() else 'cpu')\n",
    "print(device)\n",
    "generator = generator.to(device)\n",
    "discriminator = discriminator.to(device)\n"
   ]
  },
  {
   "cell_type": "code",
   "execution_count": 3,
   "metadata": {},
   "outputs": [
    {
     "name": "stdout",
     "output_type": "stream",
     "text": [
      "Starting Fine-Tuning\n",
      "starting epoch 0\n"
     ]
    }
   ],
   "source": [
    "adversarial_loss = torch.nn.BCELoss()\n",
    "pixelwise_loss = torch.nn.L1Loss()\n",
    "\n",
    "optimizer_G = torch.optim.Adam(generator.parameters(), lr=0.0001)\n",
    "optimizer_D = torch.optim.Adam(discriminator.parameters(), lr=0.0001)\n",
    "\n",
    "if __name__ == '__main__':\n",
    "    dataloader = DataLoader(dataset, batch_size=64, shuffle=True, num_workers=0)\n",
    "    print('Starting Fine-Tuning')\n",
    "    num_epochs = 5\n",
    "    for epoch in range(num_epochs):\n",
    "        print('starting epoch', epoch)\n",
    "        for i, imgs in enumerate(dataloader):\n",
    "            print('starting batch', i)\n",
    "            real_imgs = imgs.to(device)\n",
    "            batch_size = real_imgs.size(0)\n",
    "            # Adversarial ground truths\n",
    "            valid = torch.ones((batch_size, 1), requires_grad=False).to(device)\n",
    "            fake = torch.zeros((batch_size, 1), requires_grad=False).to(device)\n",
    "\n",
    "            # ------------------\n",
    "            # Train Generator\n",
    "            # ------------------\n",
    "            optimizer_G.zero_grad()\n",
    "\n",
    "            # Sample noise as generator input\n",
    "            z = torch.randn(batch_size, 512).to(device)\n",
    "            c = torch.zeros(batch_size, 0).to(device)\n",
    "\n",
    "            # Generate a batch of images\n",
    "            gen_imgs = generator(z,c)\n",
    "\n",
    "            # Loss measures generator's ability to fool the discriminator\n",
    "            g_loss = adversarial_loss(discriminator(gen_imgs, c), valid)\n",
    "            g_loss += pixelwise_loss(gen_imgs, real_imgs)  # Adding pixel-wise loss\n",
    "\n",
    "            g_loss.backward()\n",
    "            optimizer_G.step()\n",
    "\n",
    "            # ---------------------\n",
    "            # Train Discriminator\n",
    "            # ---------------------\n",
    "            optimizer_D.zero_grad()\n",
    "\n",
    "            # Measure discriminator's ability to classify real from generated samples\n",
    "            real_loss = adversarial_loss(discriminator(real_imgs), valid)\n",
    "            fake_loss = adversarial_loss(discriminator(gen_imgs.detach()), fake)\n",
    "            d_loss = (real_loss + fake_loss) / 2\n",
    "\n",
    "            d_loss.backward()\n",
    "            optimizer_D.step()\n",
    "\n",
    "            print(f\"[Epoch {epoch+1}/{num_epochs}] [Batch {i+1}/{len(dataloader)}] \"\n",
    "                f\"[D loss: {d_loss.item():.4f}] [G loss: {g_loss.item():.4f}]\")\n",
    "\n",
    "    print('Finished Fine-Tuning')\n",
    "\n",
    "    torch.save({\n",
    "        'generator': generator.state_dict(),\n",
    "        'discriminator': discriminator.state_dict()\n",
    "    }, 'models/celeba-hq-256-tuned_stylegan3-t-ffhqu-256.pth')\n",
    "\n",
    "    print('Finished Saving the Model')\n"
   ]
  }
 ],
 "metadata": {
  "kernelspec": {
   "display_name": "Python 3",
   "language": "python",
   "name": "python3"
  },
  "language_info": {
   "codemirror_mode": {
    "name": "ipython",
    "version": 3
   },
   "file_extension": ".py",
   "mimetype": "text/x-python",
   "name": "python",
   "nbconvert_exporter": "python",
   "pygments_lexer": "ipython3",
   "version": "3.11.6"
  }
 },
 "nbformat": 4,
 "nbformat_minor": 2
}
